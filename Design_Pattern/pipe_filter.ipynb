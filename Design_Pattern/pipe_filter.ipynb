{
 "cells": [
  {
   "cell_type": "markdown",
   "metadata": {},
   "source": [
    "- 파이프-필터(Pipe-Filter) 패턴\n",
    "    - 데이터를 여러 개의 독립적인 처리 단계(필터)에서 변환하고, 이를 연결하는 통로(파이프)를 통해 전달하는 디자인 패턴\n",
    "    - 데이터 스트리밍, 로그 처리, 이미지 변환, 데이터 변환 프로세스 등에 많이 사용\n",
    "\n",
    "- 필터(Filter): 데이터를 가공하는 개별적인 처리 단계\n",
    "- 파이프(Pipe): 필터 간에 데이터를 전달하는 역할"
   ]
  },
  {
   "cell_type": "code",
   "execution_count": 2,
   "metadata": {},
   "outputs": [],
   "source": [
    "# 1\n",
    "# 입력 문자열을 받음\n",
    "# 대문자로 변환\n",
    "# 공백 제거\n",
    "# 단어 개수를 세는 필터를 거침"
   ]
  },
  {
   "cell_type": "code",
   "execution_count": 1,
   "metadata": {},
   "outputs": [
    {
     "name": "stdout",
     "output_type": "stream",
     "text": [
      "최종 결과: 22\n"
     ]
    }
   ],
   "source": [
    "# 필터 1: 대문자로 변환\n",
    "def to_uppercase(text):\n",
    "    return text.upper()\n",
    "\n",
    "# 필터 2: 공백 제거\n",
    "def remove_spaces(text):\n",
    "    return text.replace(\" \", \"\")\n",
    "\n",
    "# 필터 3: 글자 수 세기\n",
    "def count_characters(text):\n",
    "    return len(text)\n",
    "\n",
    "# 파이프라인 실행 함수\n",
    "def pipeline(data, filters):\n",
    "    for f in filters:\n",
    "        data = f(data)\n",
    "    return data\n",
    "\n",
    "# 필터 체인 정의\n",
    "filters = [to_uppercase, remove_spaces, count_characters]\n",
    "\n",
    "# 입력 데이터\n",
    "input_text = \"Hello Pipe Filter Pattern\"\n",
    "result = pipeline(input_text, filters)\n",
    "\n",
    "print(\"최종 결과:\", result)  # 결과: 22 (공백 제거 후 글자 수)\n"
   ]
  },
  {
   "cell_type": "code",
   "execution_count": 3,
   "metadata": {},
   "outputs": [],
   "source": [
    "# 파일을 읽고\n",
    "# 특정 단어를 필터링하고\n",
    "# 결과를 저장하는 파이프-필터 패턴"
   ]
  },
  {
   "cell_type": "code",
   "execution_count": 4,
   "metadata": {},
   "outputs": [
    {
     "name": "stdout",
     "output_type": "stream",
     "text": [
      "'log.txt'에서 'error' 단어를 제거하고 'cleaned_log.txt'에 저장 완료!\n"
     ]
    }
   ],
   "source": [
    "# 필터 1: 파일에서 텍스트 읽기\n",
    "def read_file(filename: str) -> str:\n",
    "    with open(filename, 'r', encoding='utf-8') as file:\n",
    "        return file.read()\n",
    "\n",
    "# 필터 2: 특정 단어 필터링 (예: \"error\" 단어 제거)\n",
    "def filter_words(text: str, word_to_remove: str) -> str:\n",
    "    return text.replace(word_to_remove, \"\")\n",
    "\n",
    "# 필터 3: 변환 결과 저장\n",
    "def save_output(filename: str, text: str) -> None:\n",
    "    with open(filename, 'w', encoding='utf-8') as file:\n",
    "        file.write(text)\n",
    "\n",
    "# 파이프라인 실행\n",
    "input_filename = \"log.txt\"\n",
    "output_filename = \"cleaned_log.txt\"\n",
    "\n",
    "text = read_file(input_filename)\n",
    "filtered_text = filter_words(text, \"error\")\n",
    "save_output(output_filename, filtered_text)\n",
    "\n",
    "print(f\"'{input_filename}'에서 'error' 단어를 제거하고 '{output_filename}'에 저장 완료!\")\n"
   ]
  }
 ],
 "metadata": {
  "kernelspec": {
   "display_name": "Python 3",
   "language": "python",
   "name": "python3"
  },
  "language_info": {
   "codemirror_mode": {
    "name": "ipython",
    "version": 3
   },
   "file_extension": ".py",
   "mimetype": "text/x-python",
   "name": "python",
   "nbconvert_exporter": "python",
   "pygments_lexer": "ipython3",
   "version": "3.10.16"
  }
 },
 "nbformat": 4,
 "nbformat_minor": 2
}
