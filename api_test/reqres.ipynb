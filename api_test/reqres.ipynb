{
 "cells": [
  {
   "cell_type": "code",
   "execution_count": 9,
   "metadata": {},
   "outputs": [],
   "source": [
    "# 목적\n",
    "# 유저 조회 → 유저 생성 → 생성된 유저 수정 → 유저 삭제"
   ]
  },
  {
   "cell_type": "code",
   "execution_count": null,
   "metadata": {},
   "outputs": [],
   "source": [
    "# 1 | GET으로 유저 정보 가져오고 파싱해서 목록 출력\n",
    "\n",
    "import requests\n",
    "from pprint import pprint\n",
    "\n",
    "url = \"https://reqres.in/api/users?page=2\"\n",
    "response = requests.get(url)\n",
    "\n",
    "# pprint(response.json())"
   ]
  },
  {
   "cell_type": "code",
   "execution_count": 46,
   "metadata": {},
   "outputs": [
    {
     "name": "stdout",
     "output_type": "stream",
     "text": [
      "2 page에 저장된 유저 수: 6\n",
      "[유저 정보]\n",
      "- 7: Michael Lawson\n",
      "- 8: Lindsay Ferguson\n",
      "- 9: Tobias Funke\n",
      "- 10: Byron Fields\n",
      "- 11: George Edwards\n",
      "- 12: Rachel Howell\n"
     ]
    }
   ],
   "source": [
    "# 유저 정보 확인하기\n",
    "if response.status_code == 200:\n",
    "    data = response.json()['data']\n",
    "    print(f\"2 page에 저장된 유저 수: {len(data)}\")\n",
    "    print(\"[유저 정보]\")\n",
    "    for i in range(len(data)):\n",
    "        i_data = data[i]\n",
    "        id = i_data['id']\n",
    "        first_name = i_data['first_name']\n",
    "        last_name = i_data['last_name']\n",
    "        print(f\"- {id}: {first_name} {last_name}\")"
   ]
  },
  {
   "cell_type": "code",
   "execution_count": 68,
   "metadata": {},
   "outputs": [
    {
     "name": "stdout",
     "output_type": "stream",
     "text": [
      "생성된 유저 ID: 574\n",
      "생성 시각: 2025-03-26T12:48:10.207Z\n"
     ]
    }
   ],
   "source": [
    "# 2 | POST로 유저 생성하기\n",
    "\n",
    "target_user_id = None\n",
    "\n",
    "payload = {\n",
    "    \"name\" : \"또또\",\n",
    "    \"job\": \"SDET\"\n",
    "}\n",
    "\n",
    "url = \"https://reqres.in/api/users\"\n",
    "response = requests.post(url, json=payload)\n",
    "\n",
    "if response.status_code == 201:\n",
    "    result = response.json()\n",
    "    print('생성된 유저 ID:', result['id'])\n",
    "    print('생성 시각:', result['createdAt'])\n",
    "    target_user_id = result['id']\n",
    "else: print('생성 실패, ', response.status_code)"
   ]
  },
  {
   "cell_type": "code",
   "execution_count": 69,
   "metadata": {},
   "outputs": [
    {
     "name": "stdout",
     "output_type": "stream",
     "text": [
      "수정된 정보: {'name': '또또', 'job': 'CEO', 'updatedAt': '2025-03-26T12:48:10.747Z'}\n",
      "수정된 시각: 2025-03-26T12:48:10.747Z\n"
     ]
    }
   ],
   "source": [
    "# 3 | PUT으로 유저 정보 수정 (job 값 수정하기)\n",
    "\n",
    "update_payload = {\n",
    "    \"name\": \"또또\",\n",
    "    \"job\": \"CEO\"\n",
    "}\n",
    "\n",
    "url = f\"https://reqres.in/api/users/{target_user_id}\"\n",
    "response = requests.put(url, json=update_payload)\n",
    "\n",
    "if response.status_code == 200:\n",
    "    print(f\"수정된 정보: {response.json()}\")\n",
    "    print(f\"수정된 시각: {response.json()['updatedAt']}\")\n",
    "    "
   ]
  },
  {
   "cell_type": "code",
   "execution_count": 72,
   "metadata": {},
   "outputs": [
    {
     "name": "stdout",
     "output_type": "stream",
     "text": [
      "삭제 성공\n"
     ]
    }
   ],
   "source": [
    "# 4 | DELETE로 생성한 유저 삭제하고 204 No Content 확인\n",
    " \n",
    "url = f\"https://reqres.in/api/users/{target_user_id}\"\n",
    "response = requests.delete(url)\n",
    "\n",
    "if response.status_code == 204:\n",
    "    print(\"삭제 성공\")\n",
    "else: print(\"삭제 실패\")"
   ]
  }
 ],
 "metadata": {
  "kernelspec": {
   "display_name": "asg",
   "language": "python",
   "name": "python3"
  },
  "language_info": {
   "codemirror_mode": {
    "name": "ipython",
    "version": 3
   },
   "file_extension": ".py",
   "mimetype": "text/x-python",
   "name": "python",
   "nbconvert_exporter": "python",
   "pygments_lexer": "ipython3",
   "version": "3.10.14"
  }
 },
 "nbformat": 4,
 "nbformat_minor": 2
}
